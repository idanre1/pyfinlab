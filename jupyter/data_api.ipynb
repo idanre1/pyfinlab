{
 "cells": [
  {
   "cell_type": "code",
   "execution_count": 1,
   "id": "860f4e59-f567-47fa-b1d4-3236adfd9345",
   "metadata": {},
   "outputs": [],
   "source": [
    "from datetime import datetime, timedelta\n",
    "from pyfinlab import data_api as api"
   ]
  },
  {
   "cell_type": "markdown",
   "id": "e9c597fe-c770-4577-8987-3f8566875723",
   "metadata": {},
   "source": [
    "## Price data from yfinance"
   ]
  },
  {
   "cell_type": "markdown",
   "id": "17c83f5c-d766-430c-924e-4a0ad0f5207a",
   "metadata": {},
   "source": [
    "'yfinance' is the default api_source as it is free to use for anyone. "
   ]
  },
  {
   "cell_type": "code",
   "execution_count": 2,
   "id": "2097f0c9-b2c6-428a-ad4f-c4ea2733dc7a",
   "metadata": {},
   "outputs": [],
   "source": [
    "# tickers formatted for yfinance api\n",
    "tickers = ['SPY', 'AGG', 'GLD', 'TAIL', 'GBTC', 'AAPL', 'COIN']"
   ]
  },
  {
   "cell_type": "code",
   "execution_count": 3,
   "id": "71f2a583-b5e1-4598-afc7-b043c3f671cd",
   "metadata": {},
   "outputs": [],
   "source": [
    "# dates formatted for yfinance api\n",
    "start_date = (datetime.today() - timedelta(days=7)).strftime('%Y-%m-%d')\n",
    "end_date = (datetime.today() - timedelta(days=0)).strftime('%Y-%m-%d')"
   ]
  },
  {
   "cell_type": "code",
   "execution_count": 4,
   "id": "c3812c47-a66f-4456-ba38-0daf905acec1",
   "metadata": {},
   "outputs": [
    {
     "name": "stdout",
     "output_type": "stream",
     "text": [
      "[*********************100%***********************]  7 of 7 completed\n"
     ]
    },
    {
     "data": {
      "text/html": [
       "<div>\n",
       "<style scoped>\n",
       "    .dataframe tbody tr th:only-of-type {\n",
       "        vertical-align: middle;\n",
       "    }\n",
       "\n",
       "    .dataframe tbody tr th {\n",
       "        vertical-align: top;\n",
       "    }\n",
       "\n",
       "    .dataframe thead th {\n",
       "        text-align: right;\n",
       "    }\n",
       "</style>\n",
       "<table border=\"1\" class=\"dataframe\">\n",
       "  <thead>\n",
       "    <tr style=\"text-align: right;\">\n",
       "      <th></th>\n",
       "      <th>AAPL</th>\n",
       "      <th>AGG</th>\n",
       "      <th>COIN</th>\n",
       "      <th>GBTC</th>\n",
       "      <th>GLD</th>\n",
       "      <th>SPY</th>\n",
       "      <th>TAIL</th>\n",
       "    </tr>\n",
       "    <tr>\n",
       "      <th>Date</th>\n",
       "      <th></th>\n",
       "      <th></th>\n",
       "      <th></th>\n",
       "      <th></th>\n",
       "      <th></th>\n",
       "      <th></th>\n",
       "      <th></th>\n",
       "    </tr>\n",
       "  </thead>\n",
       "  <tbody>\n",
       "    <tr>\n",
       "      <th>2021-11-04</th>\n",
       "      <td>150.74</td>\n",
       "      <td>114.77</td>\n",
       "      <td>344.45</td>\n",
       "      <td>48.87</td>\n",
       "      <td>167.65</td>\n",
       "      <td>466.91</td>\n",
       "      <td>18.05</td>\n",
       "    </tr>\n",
       "    <tr>\n",
       "      <th>2021-11-05</th>\n",
       "      <td>151.28</td>\n",
       "      <td>115.22</td>\n",
       "      <td>337.05</td>\n",
       "      <td>48.57</td>\n",
       "      <td>169.84</td>\n",
       "      <td>468.53</td>\n",
       "      <td>18.15</td>\n",
       "    </tr>\n",
       "    <tr>\n",
       "      <th>2021-11-08</th>\n",
       "      <td>150.44</td>\n",
       "      <td>115.01</td>\n",
       "      <td>353.92</td>\n",
       "      <td>52.30</td>\n",
       "      <td>170.45</td>\n",
       "      <td>468.93</td>\n",
       "      <td>18.07</td>\n",
       "    </tr>\n",
       "    <tr>\n",
       "      <th>2021-11-09</th>\n",
       "      <td>150.81</td>\n",
       "      <td>115.33</td>\n",
       "      <td>357.39</td>\n",
       "      <td>53.49</td>\n",
       "      <td>171.29</td>\n",
       "      <td>467.38</td>\n",
       "      <td>18.14</td>\n",
       "    </tr>\n",
       "    <tr>\n",
       "      <th>2021-11-10</th>\n",
       "      <td>147.92</td>\n",
       "      <td>114.55</td>\n",
       "      <td>328.60</td>\n",
       "      <td>53.42</td>\n",
       "      <td>173.15</td>\n",
       "      <td>463.62</td>\n",
       "      <td>18.04</td>\n",
       "    </tr>\n",
       "  </tbody>\n",
       "</table>\n",
       "</div>"
      ],
      "text/plain": [
       "              AAPL     AGG    COIN   GBTC     GLD     SPY   TAIL\n",
       "Date                                                            \n",
       "2021-11-04  150.74  114.77  344.45  48.87  167.65  466.91  18.05\n",
       "2021-11-05  151.28  115.22  337.05  48.57  169.84  468.53  18.15\n",
       "2021-11-08  150.44  115.01  353.92  52.30  170.45  468.93  18.07\n",
       "2021-11-09  150.81  115.33  357.39  53.49  171.29  467.38  18.14\n",
       "2021-11-10  147.92  114.55  328.60  53.42  173.15  463.62  18.04"
      ]
     },
     "execution_count": 4,
     "metadata": {},
     "output_type": "execute_result"
    }
   ],
   "source": [
    "api.price_history(tickers, start_date, end_date, api_source='yfinance')"
   ]
  },
  {
   "cell_type": "markdown",
   "id": "87d8533c-8aa9-4dff-b4a1-1863aaace57e",
   "metadata": {},
   "source": [
    "## Price data from bloomberg"
   ]
  },
  {
   "cell_type": "markdown",
   "id": "2dadddde-d829-4e75-8cf8-3307af49edcb",
   "metadata": {},
   "source": [
    "You must have a Bloomberg Professional Service subscription to use 'bloomberg' as api_source. Use 'yfinance' if you do not have a subscription as it is free to use. "
   ]
  },
  {
   "cell_type": "code",
   "execution_count": 5,
   "id": "25447163-aa01-4f03-997a-61138c0127e2",
   "metadata": {},
   "outputs": [
    {
     "data": {
      "text/html": [
       "<div>\n",
       "<style scoped>\n",
       "    .dataframe tbody tr th:only-of-type {\n",
       "        vertical-align: middle;\n",
       "    }\n",
       "\n",
       "    .dataframe tbody tr th {\n",
       "        vertical-align: top;\n",
       "    }\n",
       "\n",
       "    .dataframe thead th {\n",
       "        text-align: right;\n",
       "    }\n",
       "</style>\n",
       "<table border=\"1\" class=\"dataframe\">\n",
       "  <thead>\n",
       "    <tr style=\"text-align: right;\">\n",
       "      <th></th>\n",
       "      <th>AAPL</th>\n",
       "      <th>AGG</th>\n",
       "      <th>COIN</th>\n",
       "      <th>GBTC</th>\n",
       "      <th>GLD</th>\n",
       "      <th>SPY</th>\n",
       "      <th>TAIL</th>\n",
       "    </tr>\n",
       "    <tr>\n",
       "      <th>date</th>\n",
       "      <th></th>\n",
       "      <th></th>\n",
       "      <th></th>\n",
       "      <th></th>\n",
       "      <th></th>\n",
       "      <th></th>\n",
       "      <th></th>\n",
       "    </tr>\n",
       "  </thead>\n",
       "  <tbody>\n",
       "    <tr>\n",
       "      <th>2021-11-04</th>\n",
       "      <td>150.74</td>\n",
       "      <td>114.77</td>\n",
       "      <td>344.45</td>\n",
       "      <td>48.87</td>\n",
       "      <td>167.65</td>\n",
       "      <td>466.91</td>\n",
       "      <td>18.05</td>\n",
       "    </tr>\n",
       "    <tr>\n",
       "      <th>2021-11-05</th>\n",
       "      <td>151.28</td>\n",
       "      <td>115.22</td>\n",
       "      <td>337.05</td>\n",
       "      <td>48.57</td>\n",
       "      <td>169.84</td>\n",
       "      <td>468.53</td>\n",
       "      <td>18.15</td>\n",
       "    </tr>\n",
       "    <tr>\n",
       "      <th>2021-11-08</th>\n",
       "      <td>150.44</td>\n",
       "      <td>115.01</td>\n",
       "      <td>353.92</td>\n",
       "      <td>52.30</td>\n",
       "      <td>170.45</td>\n",
       "      <td>468.93</td>\n",
       "      <td>18.07</td>\n",
       "    </tr>\n",
       "    <tr>\n",
       "      <th>2021-11-09</th>\n",
       "      <td>150.81</td>\n",
       "      <td>115.33</td>\n",
       "      <td>357.39</td>\n",
       "      <td>53.49</td>\n",
       "      <td>171.29</td>\n",
       "      <td>467.38</td>\n",
       "      <td>18.14</td>\n",
       "    </tr>\n",
       "    <tr>\n",
       "      <th>2021-11-10</th>\n",
       "      <td>147.92</td>\n",
       "      <td>114.55</td>\n",
       "      <td>328.60</td>\n",
       "      <td>53.42</td>\n",
       "      <td>173.15</td>\n",
       "      <td>463.62</td>\n",
       "      <td>18.04</td>\n",
       "    </tr>\n",
       "    <tr>\n",
       "      <th>2021-11-11</th>\n",
       "      <td>147.87</td>\n",
       "      <td>114.34</td>\n",
       "      <td>336.39</td>\n",
       "      <td>52.19</td>\n",
       "      <td>174.12</td>\n",
       "      <td>463.77</td>\n",
       "      <td>18.06</td>\n",
       "    </tr>\n",
       "  </tbody>\n",
       "</table>\n",
       "</div>"
      ],
      "text/plain": [
       "              AAPL     AGG    COIN   GBTC     GLD     SPY   TAIL\n",
       "date                                                            \n",
       "2021-11-04  150.74  114.77  344.45  48.87  167.65  466.91  18.05\n",
       "2021-11-05  151.28  115.22  337.05  48.57  169.84  468.53  18.15\n",
       "2021-11-08  150.44  115.01  353.92  52.30  170.45  468.93  18.07\n",
       "2021-11-09  150.81  115.33  357.39  53.49  171.29  467.38  18.14\n",
       "2021-11-10  147.92  114.55  328.60  53.42  173.15  463.62  18.04\n",
       "2021-11-11  147.87  114.34  336.39  52.19  174.12  463.77  18.06"
      ]
     },
     "execution_count": 5,
     "metadata": {},
     "output_type": "execute_result"
    }
   ],
   "source": [
    "api.price_history(tickers, start_date, end_date, api_source='bloomberg')"
   ]
  },
  {
   "cell_type": "markdown",
   "id": "ac77e3ab-5e54-4350-a706-607798762044",
   "metadata": {},
   "source": [
    "## Current data from yfinance"
   ]
  },
  {
   "cell_type": "markdown",
   "id": "143dffd6-1ba0-491d-95c2-3c77d03e5e40",
   "metadata": {},
   "source": [
    "Get the available datapoints from yfinance for any ticker. "
   ]
  },
  {
   "cell_type": "code",
   "execution_count": 6,
   "id": "124d1978-6d90-426d-a4ae-87adb49b4cfa",
   "metadata": {},
   "outputs": [
    {
     "name": "stdout",
     "output_type": "stream",
     "text": [
      "{'exchange': 'PCX', 'shortName': 'SPDR S&P 500', 'longName': 'SPDR S&P 500 ETF Trust', 'exchangeTimezoneName': 'America/New_York', 'exchangeTimezoneShortName': 'EST', 'isEsgPopulated': False, 'gmtOffSetMilliseconds': '-18000000', 'quoteType': 'ETF', 'symbol': 'SPY', 'messageBoardId': 'finmb_6160262', 'market': 'us_market', 'annualHoldingsTurnover': None, 'enterpriseToRevenue': None, 'beta3Year': 1, 'profitMargins': None, 'enterpriseToEbitda': None, '52WeekChange': None, 'morningStarRiskRating': None, 'forwardEps': None, 'revenueQuarterlyGrowth': None, 'fundInceptionDate': 727660800, 'annualReportExpenseRatio': None, 'totalAssets': 374031319040, 'bookValue': None, 'fundFamily': 'SPDR State Street Global Advisors', 'lastFiscalYearEnd': None, 'netIncomeToCommon': None, 'trailingEps': None, 'lastDividendValue': None, 'SandP52WeekChange': None, 'priceToBook': None, 'nextFiscalYearEnd': None, 'yield': 0.012999999, 'mostRecentQuarter': None, 'enterpriseValue': None, 'priceHint': 2, 'threeYearAverageReturn': 0.2183, 'lastSplitDate': None, 'lastSplitFactor': None, 'legalType': 'Exchange Traded Fund', 'lastDividendDate': None, 'morningStarOverallRating': None, 'earningsQuarterlyGrowth': None, 'priceToSalesTrailing12Months': None, 'pegRatio': None, 'ytdReturn': None, 'forwardPE': None, 'maxAge': 1, 'lastCapGain': None, 'category': 'Large Blend', 'fiveYearAverageReturn': 0.19629999, 'phone': '866-732-8673', 'longBusinessSummary': 'The investment seeks to provide investment results that, before expenses, correspond generally to the price and yield performance of the S&P 500Â® Index.\\n The Trust seeks to achieve its investment objective by holding a portfolio of the common stocks that are included in the index (the â\\x80\\x9cPortfolioâ\\x80\\x9d), with the weight of each stock in the Portfolio substantially corresponding to the weight of such stock in the index.', 'companyOfficers': [], 'previousClose': 463.62, 'regularMarketOpen': 465.21, 'twoHundredDayAverage': 435.76706, 'trailingAnnualDividendYield': 0.011999051, 'payoutRatio': None, 'volume24Hr': None, 'regularMarketDayHigh': 465.285, 'navPrice': 458.3, 'averageDailyVolume10Day': 54978612, 'regularMarketPreviousClose': 463.62, 'fiftyDayAverage': 447.94888, 'trailingAnnualDividendRate': 5.563, 'open': 465.21, 'toCurrency': None, 'averageVolume10days': 54978612, 'expireDate': None, 'algorithm': None, 'dividendRate': None, 'exDividendDate': None, 'beta': None, 'circulatingSupply': None, 'startDate': None, 'regularMarketDayLow': 463.75, 'currency': 'USD', 'trailingPE': 3.2182112, 'regularMarketVolume': 34212209, 'lastMarket': None, 'maxSupply': None, 'openInterest': None, 'marketCap': None, 'volumeAllCurrencies': None, 'strikePrice': None, 'averageVolume': 70973830, 'dayLow': 463.75, 'ask': 464.48, 'askSize': 1200, 'volume': 34212209, 'fiftyTwoWeekHigh': 470.65, 'fromCurrency': None, 'fiveYearAvgDividendYield': None, 'fiftyTwoWeekLow': 351.26, 'bid': 464.09, 'tradeable': False, 'dividendYield': None, 'bidSize': 3100, 'dayHigh': 465.285, 'regularMarketPrice': 463.77, 'logo_url': ''}\n"
     ]
    }
   ],
   "source": [
    "api.current_equity_data('SPY', info=None, api_source='yfinance', get_list=True)"
   ]
  },
  {
   "cell_type": "markdown",
   "id": "674e8d39-b1bd-4dd0-89b1-b838c796dc1c",
   "metadata": {},
   "source": [
    "Download current point-in-time data using yfinance as api_source. You can download only one ticker at a time if using yfinance as api_source."
   ]
  },
  {
   "cell_type": "code",
   "execution_count": 7,
   "id": "7d01f729-4f04-49da-ae00-56119508b8da",
   "metadata": {},
   "outputs": [
    {
     "data": {
      "text/html": [
       "<div>\n",
       "<style scoped>\n",
       "    .dataframe tbody tr th:only-of-type {\n",
       "        vertical-align: middle;\n",
       "    }\n",
       "\n",
       "    .dataframe tbody tr th {\n",
       "        vertical-align: top;\n",
       "    }\n",
       "\n",
       "    .dataframe thead th {\n",
       "        text-align: right;\n",
       "    }\n",
       "</style>\n",
       "<table border=\"1\" class=\"dataframe\">\n",
       "  <thead>\n",
       "    <tr style=\"text-align: right;\">\n",
       "      <th></th>\n",
       "      <th>longName</th>\n",
       "      <th>category</th>\n",
       "      <th>quoteType</th>\n",
       "      <th>regularMarketPrice</th>\n",
       "    </tr>\n",
       "    <tr>\n",
       "      <th>TICKER</th>\n",
       "      <th></th>\n",
       "      <th></th>\n",
       "      <th></th>\n",
       "      <th></th>\n",
       "    </tr>\n",
       "  </thead>\n",
       "  <tbody>\n",
       "    <tr>\n",
       "      <th>SPY</th>\n",
       "      <td>SPDR S&amp;P 500 ETF Trust</td>\n",
       "      <td>Large Blend</td>\n",
       "      <td>ETF</td>\n",
       "      <td>463.77</td>\n",
       "    </tr>\n",
       "  </tbody>\n",
       "</table>\n",
       "</div>"
      ],
      "text/plain": [
       "                      longName     category quoteType regularMarketPrice\n",
       "TICKER                                                                  \n",
       "SPY     SPDR S&P 500 ETF Trust  Large Blend       ETF             463.77"
      ]
     },
     "execution_count": 7,
     "metadata": {},
     "output_type": "execute_result"
    }
   ],
   "source": [
    "info = ['longName', 'category', 'quoteType', 'regularMarketPrice']\n",
    "api.current_equity_data('SPY', info, api_source='yfinance')"
   ]
  },
  {
   "cell_type": "markdown",
   "id": "9869c102-d7be-46f9-be20-b9f06e3a7441",
   "metadata": {},
   "source": [
    "## Current data from bloomberg"
   ]
  },
  {
   "cell_type": "markdown",
   "id": "2d5beada-c466-4ee0-900d-273347963add",
   "metadata": {},
   "source": [
    "Bloomberg has too many available datapoints to present here. However, if you have access to a Bloomberg Terminal, you can find all available datapoints using the Field Search function (FLDS) in the mnemonics column. Here is an example of 4 datapoints being pulled. "
   ]
  },
  {
   "cell_type": "code",
   "execution_count": 8,
   "id": "b3feda59-1c0a-4633-b7b1-68345002c4e3",
   "metadata": {},
   "outputs": [
    {
     "data": {
      "text/html": [
       "<div>\n",
       "<style scoped>\n",
       "    .dataframe tbody tr th:only-of-type {\n",
       "        vertical-align: middle;\n",
       "    }\n",
       "\n",
       "    .dataframe tbody tr th {\n",
       "        vertical-align: top;\n",
       "    }\n",
       "\n",
       "    .dataframe thead th {\n",
       "        text-align: right;\n",
       "    }\n",
       "</style>\n",
       "<table border=\"1\" class=\"dataframe\">\n",
       "  <thead>\n",
       "    <tr style=\"text-align: right;\">\n",
       "      <th></th>\n",
       "      <th>LONG_COMP_NAME</th>\n",
       "      <th>HB_MARKET_CAP_FOCUS</th>\n",
       "      <th>SECURITY_TYP</th>\n",
       "      <th>PX_LAST</th>\n",
       "    </tr>\n",
       "    <tr>\n",
       "      <th>TICKER</th>\n",
       "      <th></th>\n",
       "      <th></th>\n",
       "      <th></th>\n",
       "      <th></th>\n",
       "    </tr>\n",
       "  </thead>\n",
       "  <tbody>\n",
       "    <tr>\n",
       "      <th>SPY US Equity</th>\n",
       "      <td>SPDR S&amp;P 500 ETF Trust</td>\n",
       "      <td>Large-cap</td>\n",
       "      <td>ETP</td>\n",
       "      <td>463.77</td>\n",
       "    </tr>\n",
       "    <tr>\n",
       "      <th>AGG US Equity</th>\n",
       "      <td>iShares Core U.S. Aggregate Bond ETF</td>\n",
       "      <td>NaN</td>\n",
       "      <td>ETP</td>\n",
       "      <td>114.34</td>\n",
       "    </tr>\n",
       "    <tr>\n",
       "      <th>GLD US Equity</th>\n",
       "      <td>SPDR Gold Shares</td>\n",
       "      <td>NaN</td>\n",
       "      <td>ETP</td>\n",
       "      <td>174.12</td>\n",
       "    </tr>\n",
       "    <tr>\n",
       "      <th>TAIL US Equity</th>\n",
       "      <td>Cambria Tail Risk ETF</td>\n",
       "      <td>NaN</td>\n",
       "      <td>ETP</td>\n",
       "      <td>18.06</td>\n",
       "    </tr>\n",
       "    <tr>\n",
       "      <th>GBTC US Equity</th>\n",
       "      <td>Grayscale Bitcoin Trust BTC</td>\n",
       "      <td>Multi-cap</td>\n",
       "      <td>Open-End Fund</td>\n",
       "      <td>52.19</td>\n",
       "    </tr>\n",
       "    <tr>\n",
       "      <th>AAPL US Equity</th>\n",
       "      <td>Apple Inc</td>\n",
       "      <td>NaN</td>\n",
       "      <td>Common Stock</td>\n",
       "      <td>147.87</td>\n",
       "    </tr>\n",
       "    <tr>\n",
       "      <th>COIN US Equity</th>\n",
       "      <td>Coinbase Global Inc</td>\n",
       "      <td>NaN</td>\n",
       "      <td>Common Stock</td>\n",
       "      <td>336.39</td>\n",
       "    </tr>\n",
       "  </tbody>\n",
       "</table>\n",
       "</div>"
      ],
      "text/plain": [
       "                                      LONG_COMP_NAME HB_MARKET_CAP_FOCUS  \\\n",
       "TICKER                                                                     \n",
       "SPY US Equity                 SPDR S&P 500 ETF Trust           Large-cap   \n",
       "AGG US Equity   iShares Core U.S. Aggregate Bond ETF                 NaN   \n",
       "GLD US Equity                       SPDR Gold Shares                 NaN   \n",
       "TAIL US Equity                 Cambria Tail Risk ETF                 NaN   \n",
       "GBTC US Equity           Grayscale Bitcoin Trust BTC           Multi-cap   \n",
       "AAPL US Equity                             Apple Inc                 NaN   \n",
       "COIN US Equity                   Coinbase Global Inc                 NaN   \n",
       "\n",
       "                 SECURITY_TYP  PX_LAST  \n",
       "TICKER                                  \n",
       "SPY US Equity             ETP   463.77  \n",
       "AGG US Equity             ETP   114.34  \n",
       "GLD US Equity             ETP   174.12  \n",
       "TAIL US Equity            ETP    18.06  \n",
       "GBTC US Equity  Open-End Fund    52.19  \n",
       "AAPL US Equity   Common Stock   147.87  \n",
       "COIN US Equity   Common Stock   336.39  "
      ]
     },
     "execution_count": 8,
     "metadata": {},
     "output_type": "execute_result"
    }
   ],
   "source": [
    "info = ['LONG_COMP_NAME', 'HB_MARKET_CAP_FOCUS', 'SECURITY_TYP', 'PX_LAST']\n",
    "api.current_equity_data(tickers, info, api_source='bloomberg', country_code='US', asset_class_code='Equity')"
   ]
  },
  {
   "cell_type": "code",
   "execution_count": null,
   "id": "32bb37a7-e599-4094-86f8-50168533ba22",
   "metadata": {},
   "outputs": [],
   "source": []
  }
 ],
 "metadata": {
  "kernelspec": {
   "display_name": "Python 3 (ipykernel)",
   "language": "python",
   "name": "python3"
  },
  "language_info": {
   "codemirror_mode": {
    "name": "ipython",
    "version": 3
   },
   "file_extension": ".py",
   "mimetype": "text/x-python",
   "name": "python",
   "nbconvert_exporter": "python",
   "pygments_lexer": "ipython3",
   "version": "3.8.10"
  }
 },
 "nbformat": 4,
 "nbformat_minor": 5
}
